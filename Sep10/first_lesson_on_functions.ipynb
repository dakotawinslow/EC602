{
 "cells": [
  {
   "cell_type": "markdown",
   "id": "4f810449-455b-4d79-8936-89543deb43a3",
   "metadata": {},
   "source": [
    "# Functions\n",
    "\n",
    "- what are they?\n",
    "- how do we use them?\n",
    "- how do we define them?\n",
    "- what happens when a function is defined?\n",
    "- what happens when a function is called?\n",
    "- what happens to \"variables\" that are passed into a function?\n",
    "- what happens to \"variables\" that are created in a function?\n",
    "- how do we get information out of a function?\n",
    "\n",
    "- what is a good naming scheme for our functions?\n",
    "- when should we write a function?"
   ]
  },
  {
   "cell_type": "code",
   "execution_count": 49,
   "id": "abce97c9-fd7f-482e-b1af-900c0402702f",
   "metadata": {},
   "outputs": [
    {
     "data": {
      "text/plain": [
       "['a', 't', 'd', 'o']"
      ]
     },
     "execution_count": 49,
     "metadata": {},
     "output_type": "execute_result"
    }
   ],
   "source": [
    "import os\n",
    "import random\n",
    "\n",
    "random.sample(\"dakota\", k=4)"
   ]
  },
  {
   "cell_type": "code",
   "execution_count": 50,
   "id": "97b4a6cf",
   "metadata": {},
   "outputs": [
    {
     "name": "stdout",
     "output_type": "stream",
     "text": [
      "['a', 'j', 'l']\n",
      "['g', 'j', 'a']\n",
      "['a', 'l', 'j']\n"
     ]
    }
   ],
   "source": [
    "# Renaming a function\n",
    "random.sample(\"asdfghjkl\", k=3)\n",
    "from random import sample\n",
    "print(sample(\"asdfghjkl\", k=3))\n",
    "from random import sample as s\n",
    "print(s(\"asdfghjkl\", k=3))\n",
    "mysample = s\n",
    "print(mysample(\"asdfghjkl\", k=3))\n"
   ]
  },
  {
   "cell_type": "code",
   "execution_count": 51,
   "id": "f4f2c56f",
   "metadata": {},
   "outputs": [
    {
     "name": "stdout",
     "output_type": "stream",
     "text": [
      "pattern broke at 257\n",
      "140735820999064\n",
      "2954150970704\n"
     ]
    }
   ],
   "source": [
    "myint = 4\n",
    "mystr = \"foo\"\n",
    "myls = [\"foo\", \"bar\"]\n",
    "\n",
    "def intchanger(myint):\n",
    "    myint = myint*2\n",
    "    return myint\n",
    "\n",
    "def strchanger(mystr):\n",
    "    mystr = mystr.lower()\n",
    "    return mystr\n",
    "\n",
    "def lschanger(myls):\n",
    "    myls.append(\"spam\")\n",
    "    return myls\n",
    "\n",
    "# print(myint, id(myint), intchanger(myint), id(intchanger(myint)))\n",
    "# print(12, id(12), intchanger(12), id(intchanger(12)))\n",
    "# print(mystr, id(mystr), strchanger(mystr), id(strchanger(mystr)))    \n",
    "# print(myls, id(myls), lschanger(myls), id(lschanger(myls)))\n",
    "\n",
    "lastid = 0\n",
    "for i in range(512):\n",
    "    if i == 0:\n",
    "        lastid = id(i)\n",
    "        continue\n",
    "    if id(i)-lastid != 32:\n",
    "        print(f\"pattern broke at {i}\")\n",
    "        print(lastid)\n",
    "        print(id(i))\n",
    "        break\n",
    "    lastid = id(i)"
   ]
  }
 ],
 "metadata": {
  "kernelspec": {
   "display_name": "Python 3 (ipykernel)",
   "language": "python",
   "name": "python3"
  },
  "language_info": {
   "codemirror_mode": {
    "name": "ipython",
    "version": 3
   },
   "file_extension": ".py",
   "mimetype": "text/x-python",
   "name": "python",
   "nbconvert_exporter": "python",
   "pygments_lexer": "ipython3",
   "version": "3.12.6"
  }
 },
 "nbformat": 4,
 "nbformat_minor": 5
}
