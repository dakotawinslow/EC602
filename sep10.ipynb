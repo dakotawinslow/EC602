{
 "cells": [
  {
   "cell_type": "markdown",
   "id": "891b02de-043d-4f8c-a3c4-bef48dceea94",
   "metadata": {},
   "source": [
    "Admin\n",
    "=====\n",
    "\n",
    "- website, slack, syllabus\n",
    "- first homework info\n",
    "\n",
    "Strings\n",
    "-------\n",
    "\n",
    "- creating, accessing, slicing\n",
    "- operations\n",
    "\n",
    "Exercises\n",
    "---------\n",
    "\n",
    "1. Take a list of words and change them all to \"Title Case\".\n",
    "    - make a new list\n",
    "    - modify the original list\n",
    "\n",
    "2. Find out as many things that can go in a for loop, and provide examples of each.\n",
    "\n",
    "3. Create a directory with a random collection of files with similar names.\n",
    "\n",
    "4. Write code (in a cell or a function) that renames all the files in a directory.\n",
    "\n",
    "5. "
   ]
  },
  {
   "cell_type": "code",
   "execution_count": 7,
   "id": "ea16cd7e-6dc4-4f2a-bbd6-8e50f1ad7723",
   "metadata": {},
   "outputs": [],
   "source": [
    "mylist = []\n",
    "for elm in mylist:\n",
    "    print(\"got here\")\n",
    "    print(elm)"
   ]
  },
  {
   "cell_type": "code",
   "execution_count": 8,
   "id": "3cfee5f5",
   "metadata": {},
   "outputs": [
    {
     "name": "stdout",
     "output_type": "stream",
     "text": [
      "<class 'polars.series.series.Series'>\n",
      "shape: (3,)\n",
      "Series: 'a' [i64]\n",
      "[\n",
      "\t1\n",
      "\t2\n",
      "\t3\n",
      "]\n",
      "<class 'polars.series.series.Series'>\n",
      "shape: (3,)\n",
      "Series: 'b' [i64]\n",
      "[\n",
      "\t4\n",
      "\t5\n",
      "\t6\n",
      "]\n",
      "<class 'int'>\n",
      "1\n",
      "<class 'int'>\n",
      "2\n",
      "<class 'int'>\n",
      "3\n",
      "<class 'str'>\n",
      "a\n",
      "<class 'str'>\n",
      "b\n"
     ]
    }
   ],
   "source": [
    "import polars\n",
    "df = polars.DataFrame({\"a\": [1, 2, 3], \"b\": [4, 5, 6]})\n",
    "for elm in df:\n",
    "    print(type(elm))\n",
    "    print(elm)\n",
    "for elm in df[\"a\"]:\n",
    "    print(type(elm))\n",
    "    print(elm)\n",
    "for elm in df.columns:\n",
    "    print(type(elm))\n",
    "    print(elm)"
   ]
  }
 ],
 "metadata": {
  "kernelspec": {
   "display_name": "Python 3 (ipykernel)",
   "language": "python",
   "name": "python3"
  },
  "language_info": {
   "codemirror_mode": {
    "name": "ipython",
    "version": 3
   },
   "file_extension": ".py",
   "mimetype": "text/x-python",
   "name": "python",
   "nbconvert_exporter": "python",
   "pygments_lexer": "ipython3",
   "version": "3.12.5"
  }
 },
 "nbformat": 4,
 "nbformat_minor": 5
}
